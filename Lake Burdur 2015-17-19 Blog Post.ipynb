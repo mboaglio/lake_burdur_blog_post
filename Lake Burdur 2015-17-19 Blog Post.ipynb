{
 "cells": [
  {
   "cell_type": "markdown",
   "metadata": {},
   "source": [
    "# Lake Burdur over the years 2015, 2017 and 2019\n",
    "# NDWI index and surface calculation\n",
    "## Using Landsat and Sentinel Data\n"
   ]
  },
  {
   "cell_type": "raw",
   "metadata": {},
   "source": [
    "\n",
    "### Sentinel\n",
    "NDWI = (Band 3 – Band 8) / (Band 3 + Band 8)\n",
    " \n",
    "#### 2015\n",
    "aws s3 ls sentinel-s2-l1c/tiles/36/S/TG/2015/7/30/0/preview.jpg/ --request-payer requester\n",
    "aws s3 ls sentinel-s2-l1c/tiles/36/S/TG/2015/7/30/0/B03.jp2/ --request-payer requester\n",
    "aws s3 ls sentinel-s2-l1c/tiles/36/S/TG/2015/7/30/0/B08.jp2/ --request-payer requester\n",
    "\n",
    "#### 2017\n",
    "aws s3 ls sentinel-s2-l1c/tiles/36/S/TG/2017/7/31/0/preview.jpg/ --request-payer requester\n",
    "aws s3 ls sentinel-s2-l1c/tiles/36/S/TG/2017/7/31/0/B03.jp2/ --request-payer requester\n",
    "aws s3 ls sentinel-s2-l1c/tiles/36/S/TG/2017/7/31/0/B08.jp2/ --request-payer requester\n",
    " \n",
    "#### 2019\n",
    "aws s3 ls sentinel-s2-l1c/tiles/36/S/TG/2019/7/31/0/preview.jpg/ --request-payer requester\n",
    "aws s3 ls sentinel-s2-l1c/tiles/36/S/TG/2019/7/31/0/B03.jp2/ --request-payer requester\n",
    "aws s3 ls sentinel-s2-l1c/tiles/36/S/TG/2019/7/31/0/B08.jp2/ --request-payer requester\n",
    "\n",
    "\n",
    "### LandSat\n",
    "NDWI = (NIR – SWIR) / (NIR + SWIR)\n",
    "For Landsat 8 data, NDWI = (Band 3 – Band 5) / (Band 3 + Band 5)\n",
    "\n",
    "#### 2015\n",
    "s3://landsat-pds/c1/L8/179/034/LC08_L1TP_179034_20150713_20170407_01_T1/\n",
    "https://landsat-pds.s3.amazonaws.com/c1/L8/179/034/LC08_L1TP_179034_20150713_20170407_01_T1/LC08_L1TP_179034_20150713_20170407_01_T1_thumb_large.jpg\n",
    "https://landsat-pds.s3.amazonaws.com/c1/L8/179/034/LC08_L1TP_179034_20150713_20170407_01_T1/LC08_L1TP_179034_20150713_20170407_01_T1_B3.TIF\n",
    "https://landsat-pds.s3.amazonaws.com/c1/L8/179/034/LC08_L1TP_179034_20150713_20170407_01_T1/LC08_L1TP_179034_20150713_20170407_01_T1_B5.TIF\n",
    "\n",
    "#### 2017\n",
    "s3://landsat-pds/c1/L8/179/034/LC08_L1TP_179034_20170702_20170715_01_T1/\n",
    "https://landsat-pds.s3.amazonaws.com/c1/L8/179/034/LC08_L1TP_179034_20170702_20170715_01_T1/LC08_L1TP_179034_20170702_20170715_01_T1_thumb_large.jpg\n",
    "https://landsat-pds.s3.amazonaws.com/c1/L8/179/034/LC08_L1TP_179034_20170702_20170715_01_T1/LC08_L1TP_179034_20170702_20170715_01_T1_B3.TIF\n",
    "https://landsat-pds.s3.amazonaws.com/c1/L8/179/034/LC08_L1TP_179034_20170702_20170715_01_T1/LC08_L1TP_179034_20170702_20170715_01_T1_B5.TIF\n",
    "\n",
    "#### 2019\n",
    "s3://landsat-pds/c1/L8/179/034/LC08_L1TP_179034_20190708_20190719_01_T1/\n",
    "https://landsat-pds.s3.amazonaws.com/c1/L8/179/034/LC08_L1TP_179034_20190708_20190719_01_T1/LC08_L1TP_179034_20190708_20190719_01_T1_thumb_large.jpg\n",
    "https://landsat-pds.s3.amazonaws.com/c1/L8/179/034/LC08_L1TP_179034_20190708_20190719_01_T1/LC08_L1TP_179034_20190708_20190719_01_T1_B3.TIF\n",
    "https://landsat-pds.s3.amazonaws.com/c1/L8/179/034/LC08_L1TP_179034_20190708_20190719_01_T1/LC08_L1TP_179034_20190708_20190719_01_T1_B5.TIF\n",
    "\n"
   ]
  },
  {
   "cell_type": "markdown",
   "metadata": {},
   "source": [
    "## Install required libraries"
   ]
  },
  {
   "cell_type": "code",
   "execution_count": 1,
   "metadata": {},
   "outputs": [
    {
     "name": "stdout",
     "output_type": "stream",
     "text": [
      "Requirement already satisfied: rasterio in /opt/conda/lib/python3.7/site-packages (1.2.1)\n",
      "Requirement already satisfied: snuggs>=1.4.1 in /opt/conda/lib/python3.7/site-packages (from rasterio) (1.4.7)\n",
      "Requirement already satisfied: affine in /opt/conda/lib/python3.7/site-packages (from rasterio) (2.3.0)\n",
      "Requirement already satisfied: certifi in /opt/conda/lib/python3.7/site-packages (from rasterio) (2020.12.5)\n",
      "Requirement already satisfied: click-plugins in /opt/conda/lib/python3.7/site-packages (from rasterio) (1.1.1)\n",
      "Requirement already satisfied: numpy in /opt/conda/lib/python3.7/site-packages (from rasterio) (1.18.1)\n",
      "Requirement already satisfied: click<8,>=4.0 in /opt/conda/lib/python3.7/site-packages (from rasterio) (7.0)\n",
      "Requirement already satisfied: attrs in /opt/conda/lib/python3.7/site-packages (from rasterio) (19.3.0)\n",
      "Requirement already satisfied: cligj>=0.5 in /opt/conda/lib/python3.7/site-packages (from rasterio) (0.7.1)\n",
      "Requirement already satisfied: pyparsing>=2.1.6 in /opt/conda/lib/python3.7/site-packages (from snuggs>=1.4.1->rasterio) (2.4.6)\n"
     ]
    }
   ],
   "source": [
    "!pip install rasterio"
   ]
  },
  {
   "cell_type": "markdown",
   "metadata": {},
   "source": [
    "## import all required libraries"
   ]
  },
  {
   "cell_type": "code",
   "execution_count": 2,
   "metadata": {},
   "outputs": [],
   "source": [
    "import rasterio\n",
    "from rasterio import plot\n",
    "import matplotlib.pyplot as plt\n",
    "import matplotlib as mpl\n",
    "import numpy as np\n",
    "import rasterio.sample\n",
    "from rasterio import mask\n",
    "import warnings; warnings.simplefilter('ignore')\n",
    "\n",
    "%matplotlib inline"
   ]
  },
  {
   "cell_type": "markdown",
   "metadata": {},
   "source": [
    "## Define Lake Burdur area Poligon\n"
   ]
  },
  {
   "cell_type": "code",
   "execution_count": 3,
   "metadata": {},
   "outputs": [],
   "source": [
    "def lake_burdur_32635():\n",
    "    \"\"\" Lake burdur EPSG:32635 polygon.\"\"\"\n",
    "    return {\n",
    "               \"type\": \"Polygon\",\n",
    "                'coordinates': \n",
    "                                [[[764548.1266782081, 4196934.709524442],\n",
    "                                 [764936.9403406535, 4167873.726825347],\n",
    "                                 [795000.0, 4169741.1266483925],\n",
    "                                 [795000.0, 4198487.27510955],\n",
    "                                 [764548.1266782081, 4196934.709524442]]]\n",
    "            }"
   ]
  },
  {
   "cell_type": "code",
   "execution_count": 4,
   "metadata": {},
   "outputs": [],
   "source": [
    "def lake_burdur_32636():\n",
    "    \"\"\" Lake burdur EPSG:32636 polygon.\"\"\"\n",
    "    return {\n",
    "               \"type\": \"Polygon\",\n",
    "                'coordinates': \n",
    "                            [[[236857.846627,4196889.46501],\n",
    "                            [235382.90651,4167863.49462],\n",
    "                            [265497.879935,4167805.37731],\n",
    "                            [267340.220545,4196480.91379],\n",
    "                            [236857.846627,4196889.46501]]]\n",
    "            }\n",
    "\n"
   ]
  },
  {
   "cell_type": "markdown",
   "metadata": {},
   "source": [
    "## Download Lake burdur tiles"
   ]
  },
  {
   "cell_type": "code",
   "execution_count": 5,
   "metadata": {},
   "outputs": [
    {
     "name": "stdout",
     "output_type": "stream",
     "text": [
      "download: s3://sentinel-s2-l1c/tiles/36/S/TG/2015/7/30/0/B03.jp2 to ./SE_2015_B03.jp2\n",
      "download: s3://sentinel-s2-l1c/tiles/36/S/TG/2015/7/30/0/B08.jp2 to ./SE_2015_B08.jp2\n",
      "download: s3://sentinel-s2-l1c/tiles/36/S/TG/2017/7/31/0/B03.jp2 to ./SE_2017_B03.jp2\n",
      "download: s3://sentinel-s2-l1c/tiles/36/S/TG/2017/7/31/0/B08.jp2 to ./SE_2017_B08.jp2\n",
      "download: s3://sentinel-s2-l1c/tiles/36/S/TG/2019/7/31/0/B03.jp2 to ./SE_2019_B03.jp2\n",
      "download: s3://sentinel-s2-l1c/tiles/36/S/TG/2019/7/31/0/B08.jp2 to ./SE_2019_B08.jp2\n"
     ]
    }
   ],
   "source": [
    "def download_sentinel(year, dataset_download_prefix):\n",
    "    band3_filename = \"B03.jp2\"\n",
    "    band8_filename = \"B08.jp2\"\n",
    "    get_string = dataset_download_prefix + \"/\" + band3_filename + \" \" + \"SE_\" + str(year) + \"_\" + band3_filename + \" --request-payer\"\n",
    "    !aws s3 cp $get_string\n",
    "    get_string = dataset_download_prefix + \"/\" + band8_filename + \" \" + \"SE_\" + str(year) + \"_\" + band8_filename + \" --request-payer\"\n",
    "    !aws s3 cp $get_string\n",
    "    return\n",
    "\n",
    "download_sentinel(2015, \"s3://sentinel-s2-l1c/tiles/36/S/TG/2015/7/30/0\")\n",
    "download_sentinel(2017, \"s3://sentinel-s2-l1c/tiles/36/S/TG/2017/7/31/0\")\n",
    "download_sentinel(2019, \"s3://sentinel-s2-l1c/tiles/36/S/TG/2019/7/31/0\")"
   ]
  },
  {
   "cell_type": "code",
   "execution_count": 6,
   "metadata": {},
   "outputs": [
    {
     "name": "stdout",
     "output_type": "stream",
     "text": [
      "--2021-03-08 19:23:24--  https://landsat-pds.s3.amazonaws.com/c1/L8/179/034/LC08_L1TP_179034_20150713_20170407_01_T1/LC08_L1TP_179034_20150713_20170407_01_T1_B3.TIF\n",
      "Resolving landsat-pds.s3.amazonaws.com (landsat-pds.s3.amazonaws.com)... 52.218.235.11\n",
      "Connecting to landsat-pds.s3.amazonaws.com (landsat-pds.s3.amazonaws.com)|52.218.235.11|:443... connected.\n",
      "HTTP request sent, awaiting response... 200 OK\n",
      "Length: 67367592 (64M) [image/tiff]\n",
      "Saving to: ‘LS_2015_B03.TIF’\n",
      "\n",
      "LS_2015_B03.TIF     100%[===================>]  64.25M  27.7MB/s    in 2.3s    \n",
      "\n",
      "2021-03-08 19:23:27 (27.7 MB/s) - ‘LS_2015_B03.TIF’ saved [67367592/67367592]\n",
      "\n",
      "--2021-03-08 19:23:28--  https://landsat-pds.s3.amazonaws.com/c1/L8/179/034/LC08_L1TP_179034_20150713_20170407_01_T1/LC08_L1TP_179034_20150713_20170407_01_T1_B5.TIF\n",
      "Resolving landsat-pds.s3.amazonaws.com (landsat-pds.s3.amazonaws.com)... 52.218.153.251\n",
      "Connecting to landsat-pds.s3.amazonaws.com (landsat-pds.s3.amazonaws.com)|52.218.153.251|:443... connected.\n",
      "HTTP request sent, awaiting response... 200 OK\n",
      "Length: 70490196 (67M) [image/tiff]\n",
      "Saving to: ‘LS_2015_B05.TIF’\n",
      "\n",
      "LS_2015_B05.TIF     100%[===================>]  67.22M  27.9MB/s    in 2.4s    \n",
      "\n",
      "2021-03-08 19:23:30 (27.9 MB/s) - ‘LS_2015_B05.TIF’ saved [70490196/70490196]\n",
      "\n",
      "--2021-03-08 19:23:31--  https://landsat-pds.s3.amazonaws.com/c1/L8/179/034/LC08_L1TP_179034_20170702_20170715_01_T1/LC08_L1TP_179034_20170702_20170715_01_T1_B3.TIF\n",
      "Resolving landsat-pds.s3.amazonaws.com (landsat-pds.s3.amazonaws.com)... 52.218.181.171\n",
      "Connecting to landsat-pds.s3.amazonaws.com (landsat-pds.s3.amazonaws.com)|52.218.181.171|:443... connected.\n",
      "HTTP request sent, awaiting response... 200 OK\n",
      "Length: 67865327 (65M) [image/tiff]\n",
      "Saving to: ‘LS_2017_B03.TIF’\n",
      "\n",
      "LS_2017_B03.TIF     100%[===================>]  64.72M  27.7MB/s    in 2.3s    \n",
      "\n",
      "2021-03-08 19:23:33 (27.7 MB/s) - ‘LS_2017_B03.TIF’ saved [67865327/67865327]\n",
      "\n",
      "--2021-03-08 19:23:34--  https://landsat-pds.s3.amazonaws.com/c1/L8/179/034/LC08_L1TP_179034_20170702_20170715_01_T1/LC08_L1TP_179034_20170702_20170715_01_T1_B5.TIF\n",
      "Resolving landsat-pds.s3.amazonaws.com (landsat-pds.s3.amazonaws.com)... 52.218.181.171\n",
      "Connecting to landsat-pds.s3.amazonaws.com (landsat-pds.s3.amazonaws.com)|52.218.181.171|:443... connected.\n",
      "HTTP request sent, awaiting response... 200 OK\n",
      "Length: 70563834 (67M) [image/tiff]\n",
      "Saving to: ‘LS_2017_B05.TIF’\n",
      "\n",
      "LS_2017_B05.TIF     100%[===================>]  67.29M  27.7MB/s    in 2.4s    \n",
      "\n",
      "2021-03-08 19:23:37 (27.7 MB/s) - ‘LS_2017_B05.TIF’ saved [70563834/70563834]\n",
      "\n",
      "--2021-03-08 19:23:37--  https://landsat-pds.s3.amazonaws.com/c1/L8/179/034/LC08_L1TP_179034_20190708_20190719_01_T1/LC08_L1TP_179034_20190708_20190719_01_T1_B3.TIF\n",
      "Resolving landsat-pds.s3.amazonaws.com (landsat-pds.s3.amazonaws.com)... 52.218.197.147\n",
      "Connecting to landsat-pds.s3.amazonaws.com (landsat-pds.s3.amazonaws.com)|52.218.197.147|:443... connected.\n",
      "HTTP request sent, awaiting response... 200 OK\n",
      "Length: 67644859 (65M) [image/tiff]\n",
      "Saving to: ‘LS_2019_B03.TIF’\n",
      "\n",
      "LS_2019_B03.TIF     100%[===================>]  64.51M  27.5MB/s    in 2.3s    \n",
      "\n",
      "2021-03-08 19:23:40 (27.5 MB/s) - ‘LS_2019_B03.TIF’ saved [67644859/67644859]\n",
      "\n",
      "--2021-03-08 19:23:41--  https://landsat-pds.s3.amazonaws.com/c1/L8/179/034/LC08_L1TP_179034_20190708_20190719_01_T1/LC08_L1TP_179034_20190708_20190719_01_T1_B5.TIF\n",
      "Resolving landsat-pds.s3.amazonaws.com (landsat-pds.s3.amazonaws.com)... 52.218.224.26\n",
      "Connecting to landsat-pds.s3.amazonaws.com (landsat-pds.s3.amazonaws.com)|52.218.224.26|:443... connected.\n",
      "HTTP request sent, awaiting response... 200 OK\n",
      "Length: 70543568 (67M) [image/tiff]\n",
      "Saving to: ‘LS_2019_B05.TIF’\n",
      "\n",
      "LS_2019_B05.TIF     100%[===================>]  67.28M  28.0MB/s    in 2.4s    \n",
      "\n",
      "2021-03-08 19:23:43 (28.0 MB/s) - ‘LS_2019_B05.TIF’ saved [70543568/70543568]\n",
      "\n"
     ]
    }
   ],
   "source": [
    "def download_landsat(year, dataset_download_prefix, band3_filename, band5_filename):\n",
    "    wget_filename = dataset_download_prefix + \"/\" + band3_filename\n",
    "    new_filename = \"LS_\" + str(year) + \"_B03.TIF\"\n",
    "    !wget -O $new_filename $wget_filename \n",
    "\n",
    "    wget_filename = dataset_download_prefix + \"/\" + band5_filename\n",
    "    new_filename = \"LS_\" + str(year) + \"_B05.TIF\"\n",
    "    !wget -O $new_filename $wget_filename \n",
    "    return\n",
    "\n",
    "download_landsat(2015, \"https://landsat-pds.s3.amazonaws.com/c1/L8/179/034/LC08_L1TP_179034_20150713_20170407_01_T1\", \"LC08_L1TP_179034_20150713_20170407_01_T1_B3.TIF\", \"LC08_L1TP_179034_20150713_20170407_01_T1_B5.TIF\")\n",
    "download_landsat(2017, \"https://landsat-pds.s3.amazonaws.com/c1/L8/179/034/LC08_L1TP_179034_20170702_20170715_01_T1\", \"LC08_L1TP_179034_20170702_20170715_01_T1_B3.TIF\", \"LC08_L1TP_179034_20170702_20170715_01_T1_B5.TIF\")\n",
    "download_landsat(2019, \"https://landsat-pds.s3.amazonaws.com/c1/L8/179/034/LC08_L1TP_179034_20190708_20190719_01_T1\", \"LC08_L1TP_179034_20190708_20190719_01_T1_B3.TIF\", \"LC08_L1TP_179034_20190708_20190719_01_T1_B5.TIF\")"
   ]
  },
  {
   "cell_type": "code",
   "execution_count": 7,
   "metadata": {},
   "outputs": [],
   "source": [
    "def surface_landsat(year):\n",
    "    \n",
    "    band3_filename = \"LS_\" + str(year) + \"_B03.TIF\"\n",
    "    band5_filename = \"LS_\" + str(year) + \"_B05.TIF\"\n",
    "    \n",
    "    # import bands as separate 1 band raster\n",
    "    band3 = rasterio.open(band3_filename) #green\n",
    "    band5 = rasterio.open(band5_filename) #nir\n",
    "\n",
    "    # Crop downloaded images to Lake Burdur\n",
    "    geoms = [lake_burdur_32635()]\n",
    "    crop_band3, out_transform_band3 = mask.mask(band3, geoms, crop=True)\n",
    "    crop_band5, out_transform_band5 = mask.mask(band5, geoms, crop=True)\n",
    "\n",
    "    # generate nir and green objects as arrays in float64 format\n",
    "    green = crop_band3.astype('float64')\n",
    "    nir = crop_band5.astype('float64')\n",
    "\n",
    "    np.seterr(divide='ignore', invalid='ignore')\n",
    "    ndwi=(green.astype(float) - nir.astype(float)) / (green.astype(float) + nir.astype(float)) \n",
    "    ndwi = np.nan_to_num(ndwi, nan = 0.0)\n",
    "    ndwi[ndwi <= 0] = 0\n",
    "    ndwi[ndwi > 0] = 1\n",
    "\n",
    "    #fig = plt.figure(figsize=(18,12))\n",
    "    #plot.show(ndwi)\n",
    "    \n",
    "    # A Landsat 8 resolution 30 x 30 per pixel \n",
    "    ndwi_pixels = ndwi.sum()\n",
    "    ndwi_km2 = ndwi_pixels * 30 * 30 / 1000000 # 30 x 30 meters per pixel\n",
    "\n",
    "    return ndwi_km2\n"
   ]
  },
  {
   "cell_type": "code",
   "execution_count": 8,
   "metadata": {},
   "outputs": [],
   "source": [
    "def surface_sentinel(year):\n",
    "    \n",
    "    band3_filename = \"SE_\" + str(year) + \"_B03.jp2\"\n",
    "    band8_filename = \"SE_\" + str(year) + \"_B08.jp2\"\n",
    "   \n",
    "    # import bands as separate 1 band raster\n",
    "    band3 = rasterio.open(band3_filename) #green\n",
    "    band8 = rasterio.open(band8_filename) #nir\n",
    "\n",
    "    #print(band3.height)\n",
    "    #print(band3.width)\n",
    "    \n",
    "    # Crop downloaded images to Lake Burdur\n",
    "    geoms = [lake_burdur_32636()]\n",
    "    crop_band3, out_transform_band3 = mask.mask(band3, geoms, crop=True)\n",
    "    crop_band8, out_transform_band8 = mask.mask(band8, geoms, crop=True)\n",
    "\n",
    "    # generate nir and green objects as arrays in float64 format\n",
    "    green = crop_band3.astype('float64')\n",
    "    nir = crop_band8.astype('float64')\n",
    "\n",
    "    np.seterr(divide='ignore', invalid='ignore')\n",
    "    ndwi=(green.astype(float) - nir.astype(float)) / (green.astype(float) + nir.astype(float)) \n",
    "    ndwi = np.nan_to_num(ndwi, nan = 0.0)\n",
    "    ndwi[ndwi <= 0] = 0\n",
    "    ndwi[ndwi > 0] = 1\n",
    "\n",
    "    #fig = plt.figure(figsize=(18,12))\n",
    "    #plot.show(ndwi)\n",
    "\n",
    "    # A Sentinel-2 Spatial resolution for bands 3 and 8 is 10 meters: \n",
    "    ndwi_pixels = ndwi.sum()\n",
    "    ndwi_km2 = ndwi_pixels * 10 * 10 / 1000000 # 10 x 10 meters per pixel.\n",
    "    return ndwi_km2\n"
   ]
  },
  {
   "cell_type": "code",
   "execution_count": 9,
   "metadata": {},
   "outputs": [
    {
     "name": "stdout",
     "output_type": "stream",
     "text": [
      "LandSat:\n",
      "Year 2015: 137.7918 Km2\n",
      "Year 2017: 130.6179 Km2\n",
      "Year 2019: 126.5796 Km2\n",
      "Sentinel:\n",
      "Year 2015: 137.9302 Km2\n",
      "Year 2017: 130.0878 Km2\n",
      "Year 2019: 126.4152 Km2\n"
     ]
    }
   ],
   "source": [
    "print(\"LandSat:\")\n",
    "print(\"Year {}: {} Km2\".format(2015, surface_landsat(2015)))\n",
    "print(\"Year {}: {} Km2\".format(2017, surface_landsat(2017)))\n",
    "print(\"Year {}: {} Km2\".format(2019, surface_landsat(2019)))\n",
    "\n",
    "print(\"Sentinel:\")\n",
    "print(\"Year {}: {} Km2\".format(2015, surface_sentinel(2015)))\n",
    "print(\"Year {}: {} Km2\".format(2017, surface_sentinel(2017)))\n",
    "print(\"Year {}: {} Km2\".format(2019, surface_sentinel(2019)))\n"
   ]
  },
  {
   "cell_type": "code",
   "execution_count": null,
   "metadata": {},
   "outputs": [],
   "source": []
  }
 ],
 "metadata": {
  "instance_type": "ml.c5.12xlarge",
  "kernelspec": {
   "display_name": "Python 3 (Data Science)",
   "language": "python",
   "name": "python3__SAGEMAKER_INTERNAL__arn:aws:sagemaker:us-east-2:429704687514:image/datascience-1.0"
  },
  "language_info": {
   "codemirror_mode": {
    "name": "ipython",
    "version": 3
   },
   "file_extension": ".py",
   "mimetype": "text/x-python",
   "name": "python",
   "nbconvert_exporter": "python",
   "pygments_lexer": "ipython3",
   "version": "3.7.10"
  }
 },
 "nbformat": 4,
 "nbformat_minor": 4
}
